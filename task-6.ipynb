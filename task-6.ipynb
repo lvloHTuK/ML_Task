{
 "cells": [
  {
   "cell_type": "code",
   "execution_count": 186,
   "id": "2319f489",
   "metadata": {
    "id": "2319f489"
   },
   "outputs": [],
   "source": [
    "import pandas as pd\n",
    "import numpy as np\n",
    "import matplotlib.pyplot as plt\n",
    "%matplotlib inline\n",
    "import seaborn as sns\n",
    "import string\n",
    "import re\n",
    "\n",
    "import warnings\n",
    "warnings.filterwarnings(\"ignore\")"
   ]
  },
  {
   "cell_type": "code",
   "execution_count": 187,
   "id": "JXPKMtkuARHE",
   "metadata": {
    "id": "JXPKMtkuARHE"
   },
   "outputs": [],
   "source": [
    "Z = pd.read_csv('.\\SMSSpamCollection.csv')"
   ]
  },
  {
   "cell_type": "code",
   "execution_count": 188,
   "id": "ST9aUwh_ARJq",
   "metadata": {
    "colab": {
     "base_uri": "https://localhost:8080/",
     "height": 565
    },
    "executionInfo": {
     "elapsed": 293,
     "status": "ok",
     "timestamp": 1681110727688,
     "user": {
      "displayName": "marat nasrutdinov",
      "userId": "02703623401600723846"
     },
     "user_tz": -180
    },
    "id": "ST9aUwh_ARJq",
    "outputId": "7bef934e-5577-41c4-e049-e56e08620941",
    "scrolled": true
   },
   "outputs": [
    {
     "data": {
      "text/html": [
       "<div>\n",
       "<style scoped>\n",
       "    .dataframe tbody tr th:only-of-type {\n",
       "        vertical-align: middle;\n",
       "    }\n",
       "\n",
       "    .dataframe tbody tr th {\n",
       "        vertical-align: top;\n",
       "    }\n",
       "\n",
       "    .dataframe thead th {\n",
       "        text-align: right;\n",
       "    }\n",
       "</style>\n",
       "<table border=\"1\" class=\"dataframe\">\n",
       "  <thead>\n",
       "    <tr style=\"text-align: right;\">\n",
       "      <th></th>\n",
       "      <th>target</th>\n",
       "      <th>text</th>\n",
       "    </tr>\n",
       "  </thead>\n",
       "  <tbody>\n",
       "    <tr>\n",
       "      <th>0</th>\n",
       "      <td>ham</td>\n",
       "      <td>Go until jurong point</td>\n",
       "    </tr>\n",
       "    <tr>\n",
       "      <th>1</th>\n",
       "      <td>ham</td>\n",
       "      <td>Ok lar... Joking wif u oni...</td>\n",
       "    </tr>\n",
       "    <tr>\n",
       "      <th>2</th>\n",
       "      <td>spam</td>\n",
       "      <td>Free entry in 2 a wkly comp to win FA Cup fina...</td>\n",
       "    </tr>\n",
       "    <tr>\n",
       "      <th>3</th>\n",
       "      <td>ham</td>\n",
       "      <td>U dun say so early hor... U c already then say...</td>\n",
       "    </tr>\n",
       "    <tr>\n",
       "      <th>4</th>\n",
       "      <td>ham</td>\n",
       "      <td>Nah I don't think he goes to usf</td>\n",
       "    </tr>\n",
       "  </tbody>\n",
       "</table>\n",
       "</div>"
      ],
      "text/plain": [
       "  target                                               text\n",
       "0    ham                              Go until jurong point\n",
       "1    ham                      Ok lar... Joking wif u oni...\n",
       "2   spam  Free entry in 2 a wkly comp to win FA Cup fina...\n",
       "3    ham  U dun say so early hor... U c already then say...\n",
       "4    ham                   Nah I don't think he goes to usf"
      ]
     },
     "execution_count": 188,
     "metadata": {},
     "output_type": "execute_result"
    }
   ],
   "source": [
    "Z.head(5)"
   ]
  },
  {
   "cell_type": "code",
   "execution_count": 189,
   "id": "4120d2d9",
   "metadata": {},
   "outputs": [
    {
     "data": {
      "text/plain": [
       "target    0\n",
       "text      4\n",
       "dtype: int64"
      ]
     },
     "execution_count": 189,
     "metadata": {},
     "output_type": "execute_result"
    }
   ],
   "source": [
    "Z.isnull().sum()"
   ]
  },
  {
   "cell_type": "code",
   "execution_count": 190,
   "id": "174914bb",
   "metadata": {
    "colab": {
     "base_uri": "https://localhost:8080/"
    },
    "executionInfo": {
     "elapsed": 245,
     "status": "ok",
     "timestamp": 1681110801381,
     "user": {
      "displayName": "marat nasrutdinov",
      "userId": "02703623401600723846"
     },
     "user_tz": -180
    },
    "id": "174914bb",
    "outputId": "dcb33de4-9773-4248-d9c2-a337a5367084"
   },
   "outputs": [
    {
     "data": {
      "text/plain": [
       "5548"
      ]
     },
     "execution_count": 190,
     "metadata": {},
     "output_type": "execute_result"
    }
   ],
   "source": [
    "Z[\"text\"].count()"
   ]
  },
  {
   "cell_type": "code",
   "execution_count": 191,
   "id": "a0994341",
   "metadata": {},
   "outputs": [
    {
     "data": {
      "text/plain": [
       "target    object\n",
       "text      object\n",
       "dtype: object"
      ]
     },
     "execution_count": 191,
     "metadata": {},
     "output_type": "execute_result"
    }
   ],
   "source": [
    "Z.dtypes"
   ]
  },
  {
   "cell_type": "code",
   "execution_count": 192,
   "id": "792455bf",
   "metadata": {
    "colab": {
     "base_uri": "https://localhost:8080/"
    },
    "executionInfo": {
     "elapsed": 12,
     "status": "ok",
     "timestamp": 1681110823471,
     "user": {
      "displayName": "marat nasrutdinov",
      "userId": "02703623401600723846"
     },
     "user_tz": -180
    },
    "id": "792455bf",
    "outputId": "35f509e2-57eb-4ff9-ce50-cdd4a8e93555"
   },
   "outputs": [
    {
     "data": {
      "text/plain": [
       "array(['ham', 'spam', 'target'], dtype=object)"
      ]
     },
     "execution_count": 192,
     "metadata": {},
     "output_type": "execute_result"
    }
   ],
   "source": [
    "Z.target.unique()"
   ]
  },
  {
   "cell_type": "code",
   "execution_count": 193,
   "id": "78540298",
   "metadata": {
    "id": "78540298"
   },
   "outputs": [],
   "source": [
    "# Целевая переменная\n",
    "y=Z[\"target\"]"
   ]
  },
  {
   "cell_type": "code",
   "execution_count": 194,
   "id": "grsGybDtBeP9",
   "metadata": {
    "id": "grsGybDtBeP9"
   },
   "outputs": [],
   "source": [
    "# Смотрим только тексты твитов\n",
    "X=pd.DataFrame(Z['text'])"
   ]
  },
  {
   "cell_type": "code",
   "execution_count": 195,
   "id": "3jQNJliqAjKb",
   "metadata": {
    "colab": {
     "base_uri": "https://localhost:8080/",
     "height": 423
    },
    "executionInfo": {
     "elapsed": 25,
     "status": "ok",
     "timestamp": 1681111027246,
     "user": {
      "displayName": "marat nasrutdinov",
      "userId": "02703623401600723846"
     },
     "user_tz": -180
    },
    "id": "3jQNJliqAjKb",
    "outputId": "930891bc-1261-440e-fe6b-1cb6c59fd944"
   },
   "outputs": [
    {
     "data": {
      "text/html": [
       "<div>\n",
       "<style scoped>\n",
       "    .dataframe tbody tr th:only-of-type {\n",
       "        vertical-align: middle;\n",
       "    }\n",
       "\n",
       "    .dataframe tbody tr th {\n",
       "        vertical-align: top;\n",
       "    }\n",
       "\n",
       "    .dataframe thead th {\n",
       "        text-align: right;\n",
       "    }\n",
       "</style>\n",
       "<table border=\"1\" class=\"dataframe\">\n",
       "  <thead>\n",
       "    <tr style=\"text-align: right;\">\n",
       "      <th></th>\n",
       "      <th>text</th>\n",
       "    </tr>\n",
       "  </thead>\n",
       "  <tbody>\n",
       "    <tr>\n",
       "      <th>0</th>\n",
       "      <td>Go until jurong point</td>\n",
       "    </tr>\n",
       "    <tr>\n",
       "      <th>1</th>\n",
       "      <td>Ok lar... Joking wif u oni...</td>\n",
       "    </tr>\n",
       "    <tr>\n",
       "      <th>2</th>\n",
       "      <td>Free entry in 2 a wkly comp to win FA Cup fina...</td>\n",
       "    </tr>\n",
       "    <tr>\n",
       "      <th>3</th>\n",
       "      <td>U dun say so early hor... U c already then say...</td>\n",
       "    </tr>\n",
       "    <tr>\n",
       "      <th>4</th>\n",
       "      <td>Nah I don't think he goes to usf</td>\n",
       "    </tr>\n",
       "    <tr>\n",
       "      <th>...</th>\n",
       "      <td>...</td>\n",
       "    </tr>\n",
       "    <tr>\n",
       "      <th>5547</th>\n",
       "      <td>This is the 2nd time we have tried 2 contact u...</td>\n",
       "    </tr>\n",
       "    <tr>\n",
       "      <th>5548</th>\n",
       "      <td>Will ü b going to esplanade fr home?</td>\n",
       "    </tr>\n",
       "    <tr>\n",
       "      <th>5549</th>\n",
       "      <td>Pity</td>\n",
       "    </tr>\n",
       "    <tr>\n",
       "      <th>5550</th>\n",
       "      <td>The guy did some bitching but I acted like i'd...</td>\n",
       "    </tr>\n",
       "    <tr>\n",
       "      <th>5551</th>\n",
       "      <td>Rofl. Its true to its name</td>\n",
       "    </tr>\n",
       "  </tbody>\n",
       "</table>\n",
       "<p>5552 rows × 1 columns</p>\n",
       "</div>"
      ],
      "text/plain": [
       "                                                   text\n",
       "0                                 Go until jurong point\n",
       "1                         Ok lar... Joking wif u oni...\n",
       "2     Free entry in 2 a wkly comp to win FA Cup fina...\n",
       "3     U dun say so early hor... U c already then say...\n",
       "4                      Nah I don't think he goes to usf\n",
       "...                                                 ...\n",
       "5547  This is the 2nd time we have tried 2 contact u...\n",
       "5548               Will ü b going to esplanade fr home?\n",
       "5549                                               Pity\n",
       "5550  The guy did some bitching but I acted like i'd...\n",
       "5551                         Rofl. Its true to its name\n",
       "\n",
       "[5552 rows x 1 columns]"
      ]
     },
     "execution_count": 195,
     "metadata": {},
     "output_type": "execute_result"
    }
   ],
   "source": [
    "X"
   ]
  },
  {
   "cell_type": "markdown",
   "id": "df8865ac",
   "metadata": {
    "id": "df8865ac"
   },
   "source": [
    "# Обработка текстов"
   ]
  },
  {
   "cell_type": "code",
   "execution_count": 196,
   "id": "2027a189",
   "metadata": {
    "id": "2027a189"
   },
   "outputs": [],
   "source": [
    "import nltk\n",
    "from nltk.corpus import stopwords\n",
    "from nltk.tokenize import word_tokenize"
   ]
  },
  {
   "cell_type": "code",
   "execution_count": 197,
   "id": "0eed3ae3",
   "metadata": {
    "colab": {
     "base_uri": "https://localhost:8080/"
    },
    "executionInfo": {
     "elapsed": 646,
     "status": "ok",
     "timestamp": 1681111142199,
     "user": {
      "displayName": "marat nasrutdinov",
      "userId": "02703623401600723846"
     },
     "user_tz": -180
    },
    "id": "0eed3ae3",
    "outputId": "d5daa9f6-c2c6-41f5-e78c-a74975db748c"
   },
   "outputs": [
    {
     "name": "stderr",
     "output_type": "stream",
     "text": [
      "[nltk_data] Downloading package punkt to\n",
      "[nltk_data]     C:\\Users\\Vladi\\AppData\\Roaming\\nltk_data...\n",
      "[nltk_data]   Package punkt is already up-to-date!\n",
      "[nltk_data] Downloading package stopwords to\n",
      "[nltk_data]     C:\\Users\\Vladi\\AppData\\Roaming\\nltk_data...\n",
      "[nltk_data]   Package stopwords is already up-to-date!\n"
     ]
    },
    {
     "data": {
      "text/plain": [
       "True"
      ]
     },
     "execution_count": 197,
     "metadata": {},
     "output_type": "execute_result"
    }
   ],
   "source": [
    "#обычно загрузка происходит один раз скачиваются файлы, далее они остаются на компьютере\n",
    "#nltk.download()\n",
    "nltk.download('punkt')\n",
    "nltk.download('stopwords')"
   ]
  },
  {
   "cell_type": "code",
   "execution_count": 198,
   "id": "ad4f3a00",
   "metadata": {
    "id": "ad4f3a00"
   },
   "outputs": [],
   "source": [
    "stop = stopwords.words('russian')\n",
    "stemmer = nltk.stem.snowball.RussianStemmer('russian')"
   ]
  },
  {
   "cell_type": "code",
   "execution_count": 199,
   "id": "90aadff9",
   "metadata": {
    "colab": {
     "base_uri": "https://localhost:8080/"
    },
    "executionInfo": {
     "elapsed": 309,
     "status": "ok",
     "timestamp": 1681111175603,
     "user": {
      "displayName": "marat nasrutdinov",
      "userId": "02703623401600723846"
     },
     "user_tz": -180
    },
    "id": "90aadff9",
    "outputId": "6ea685c3-0872-4b3d-ba03-b7933df44bd5"
   },
   "outputs": [
    {
     "name": "stdout",
     "output_type": "stream",
     "text": [
      "и в во не что он на я с со как а то все она так его но да ты\n"
     ]
    }
   ],
   "source": [
    "# Вывод списка стоп слов на русском\n",
    "print (' '.join(stopwords.words('russian')[:20]))"
   ]
  },
  {
   "cell_type": "code",
   "execution_count": 200,
   "id": "CZPAb7v5CT3A",
   "metadata": {
    "id": "CZPAb7v5CT3A"
   },
   "outputs": [],
   "source": [
    "# Обертка для визуализции ожидания обработки\n",
    "import tqdm"
   ]
  },
  {
   "cell_type": "code",
   "execution_count": 201,
   "id": "6f475630",
   "metadata": {
    "id": "6f475630"
   },
   "outputs": [],
   "source": [
    "# Функция обработки текста \n",
    "def preprocess_text(texts):\n",
    "    stop_words = set(stopwords.words('english'))\n",
    "    regex = re.compile('[^a-z A-Z]')\n",
    "    #regex = re.compile('[^а-я А-Я]')\n",
    "    preprocess_texts = []\n",
    "    for i in  tqdm.tqdm(range(len(texts))):\n",
    "    #for i in  range(len(texts)):\n",
    "        text = texts[i].lower()\n",
    "        text = regex.sub(' ', text)\n",
    "        word_tokens = word_tokenize(text) \n",
    "        filtered_sentence = [w for w in word_tokens if not w in stop_words] \n",
    "        preprocess_texts.append( ' '.join(filtered_sentence))\n",
    "    \n",
    "    return preprocess_texts"
   ]
  },
  {
   "cell_type": "code",
   "execution_count": 202,
   "id": "9461d3f0",
   "metadata": {
    "id": "9461d3f0"
   },
   "outputs": [],
   "source": [
    "def stemming_texts(texts):\n",
    "    st = nltk.stem.snowball.EnglishStemmer('english')\n",
    "    stem_text = []\n",
    "    for text in tqdm.tqdm(texts):\n",
    "        word_tokens = word_tokenize(text)\n",
    "        stem_text.append(' '.join([st.stem(word) for word in word_tokens]))\n",
    "    return stem_text"
   ]
  },
  {
   "cell_type": "code",
   "execution_count": 203,
   "id": "86bf23ab",
   "metadata": {},
   "outputs": [
    {
     "data": {
      "text/plain": [
       "text    4\n",
       "dtype: int64"
      ]
     },
     "execution_count": 203,
     "metadata": {},
     "output_type": "execute_result"
    }
   ],
   "source": [
    "X.isnull().sum()"
   ]
  },
  {
   "cell_type": "code",
   "execution_count": 204,
   "id": "038f48c9",
   "metadata": {},
   "outputs": [],
   "source": [
    "X = X.fillna(\"s\")"
   ]
  },
  {
   "cell_type": "code",
   "execution_count": 205,
   "id": "3beebd64",
   "metadata": {},
   "outputs": [
    {
     "data": {
      "text/plain": [
       "text    0\n",
       "dtype: int64"
      ]
     },
     "execution_count": 205,
     "metadata": {},
     "output_type": "execute_result"
    }
   ],
   "source": [
    "X.isnull().sum()"
   ]
  },
  {
   "cell_type": "code",
   "execution_count": 206,
   "id": "96dec45c",
   "metadata": {},
   "outputs": [
    {
     "data": {
      "text/html": [
       "<div>\n",
       "<style scoped>\n",
       "    .dataframe tbody tr th:only-of-type {\n",
       "        vertical-align: middle;\n",
       "    }\n",
       "\n",
       "    .dataframe tbody tr th {\n",
       "        vertical-align: top;\n",
       "    }\n",
       "\n",
       "    .dataframe thead th {\n",
       "        text-align: right;\n",
       "    }\n",
       "</style>\n",
       "<table border=\"1\" class=\"dataframe\">\n",
       "  <thead>\n",
       "    <tr style=\"text-align: right;\">\n",
       "      <th></th>\n",
       "      <th>text</th>\n",
       "    </tr>\n",
       "  </thead>\n",
       "  <tbody>\n",
       "    <tr>\n",
       "      <th>0</th>\n",
       "      <td>Go until jurong point</td>\n",
       "    </tr>\n",
       "    <tr>\n",
       "      <th>1</th>\n",
       "      <td>Ok lar... Joking wif u oni...</td>\n",
       "    </tr>\n",
       "    <tr>\n",
       "      <th>2</th>\n",
       "      <td>Free entry in 2 a wkly comp to win FA Cup fina...</td>\n",
       "    </tr>\n",
       "    <tr>\n",
       "      <th>3</th>\n",
       "      <td>U dun say so early hor... U c already then say...</td>\n",
       "    </tr>\n",
       "    <tr>\n",
       "      <th>4</th>\n",
       "      <td>Nah I don't think he goes to usf</td>\n",
       "    </tr>\n",
       "  </tbody>\n",
       "</table>\n",
       "</div>"
      ],
      "text/plain": [
       "                                                text\n",
       "0                              Go until jurong point\n",
       "1                      Ok lar... Joking wif u oni...\n",
       "2  Free entry in 2 a wkly comp to win FA Cup fina...\n",
       "3  U dun say so early hor... U c already then say...\n",
       "4                   Nah I don't think he goes to usf"
      ]
     },
     "execution_count": 206,
     "metadata": {},
     "output_type": "execute_result"
    }
   ],
   "source": [
    "X.head()"
   ]
  },
  {
   "cell_type": "code",
   "execution_count": 207,
   "id": "538eba93",
   "metadata": {
    "colab": {
     "base_uri": "https://localhost:8080/"
    },
    "executionInfo": {
     "elapsed": 926,
     "status": "ok",
     "timestamp": 1681111312242,
     "user": {
      "displayName": "marat nasrutdinov",
      "userId": "02703623401600723846"
     },
     "user_tz": -180
    },
    "id": "538eba93",
    "outputId": "75e225d4-a854-4148-ace0-b01290c0d19a"
   },
   "outputs": [
    {
     "name": "stderr",
     "output_type": "stream",
     "text": [
      "100%|███████████████████████████████████████████████████████████████████████████| 5552/5552 [00:00<00:00, 10108.91it/s]\n"
     ]
    }
   ],
   "source": [
    "X['text'] = preprocess_text(X['text'])"
   ]
  },
  {
   "cell_type": "code",
   "execution_count": 208,
   "id": "1d9d40fb",
   "metadata": {
    "colab": {
     "base_uri": "https://localhost:8080/"
    },
    "executionInfo": {
     "elapsed": 3269,
     "status": "ok",
     "timestamp": 1681111329564,
     "user": {
      "displayName": "marat nasrutdinov",
      "userId": "02703623401600723846"
     },
     "user_tz": -180
    },
    "id": "1d9d40fb",
    "outputId": "9952c097-6892-470c-8f92-9082dac4c16c"
   },
   "outputs": [
    {
     "name": "stderr",
     "output_type": "stream",
     "text": [
      "100%|████████████████████████████████████████████████████████████████████████████| 5552/5552 [00:00<00:00, 6342.79it/s]\n"
     ]
    }
   ],
   "source": [
    "X['text'] = stemming_texts(X['text'])"
   ]
  },
  {
   "cell_type": "code",
   "execution_count": 209,
   "id": "1e18ecdd",
   "metadata": {
    "colab": {
     "base_uri": "https://localhost:8080/",
     "height": 206
    },
    "executionInfo": {
     "elapsed": 323,
     "status": "ok",
     "timestamp": 1681111340917,
     "user": {
      "displayName": "marat nasrutdinov",
      "userId": "02703623401600723846"
     },
     "user_tz": -180
    },
    "id": "1e18ecdd",
    "outputId": "44f245fa-3a09-4485-ce06-47aae0207388"
   },
   "outputs": [
    {
     "data": {
      "text/html": [
       "<div>\n",
       "<style scoped>\n",
       "    .dataframe tbody tr th:only-of-type {\n",
       "        vertical-align: middle;\n",
       "    }\n",
       "\n",
       "    .dataframe tbody tr th {\n",
       "        vertical-align: top;\n",
       "    }\n",
       "\n",
       "    .dataframe thead th {\n",
       "        text-align: right;\n",
       "    }\n",
       "</style>\n",
       "<table border=\"1\" class=\"dataframe\">\n",
       "  <thead>\n",
       "    <tr style=\"text-align: right;\">\n",
       "      <th></th>\n",
       "      <th>text</th>\n",
       "    </tr>\n",
       "  </thead>\n",
       "  <tbody>\n",
       "    <tr>\n",
       "      <th>0</th>\n",
       "      <td>go jurong point</td>\n",
       "    </tr>\n",
       "    <tr>\n",
       "      <th>1</th>\n",
       "      <td>ok lar joke wif u oni</td>\n",
       "    </tr>\n",
       "    <tr>\n",
       "      <th>2</th>\n",
       "      <td>free entri wkli comp win fa cup final tkts st ...</td>\n",
       "    </tr>\n",
       "    <tr>\n",
       "      <th>3</th>\n",
       "      <td>u dun say earli hor u c alreadi say</td>\n",
       "    </tr>\n",
       "    <tr>\n",
       "      <th>4</th>\n",
       "      <td>nah think goe usf</td>\n",
       "    </tr>\n",
       "  </tbody>\n",
       "</table>\n",
       "</div>"
      ],
      "text/plain": [
       "                                                text\n",
       "0                                    go jurong point\n",
       "1                              ok lar joke wif u oni\n",
       "2  free entri wkli comp win fa cup final tkts st ...\n",
       "3                u dun say earli hor u c alreadi say\n",
       "4                                  nah think goe usf"
      ]
     },
     "execution_count": 209,
     "metadata": {},
     "output_type": "execute_result"
    }
   ],
   "source": [
    "X.head()"
   ]
  },
  {
   "cell_type": "code",
   "execution_count": 210,
   "id": "c1f98089",
   "metadata": {
    "id": "c1f98089"
   },
   "outputs": [],
   "source": [
    "#def data_Stemmer(text):\n",
    "#    return ' '.join([stemmer.stem(word) for word in text.split(' ') if word not in stop])"
   ]
  },
  {
   "cell_type": "code",
   "execution_count": 211,
   "id": "f18108ed",
   "metadata": {
    "id": "f18108ed"
   },
   "outputs": [],
   "source": [
    "#X.ttext = X.ttext.apply(lambda x: x.lower().replace('unknown', ''))"
   ]
  },
  {
   "cell_type": "code",
   "execution_count": 212,
   "id": "92c973c9",
   "metadata": {
    "id": "92c973c9"
   },
   "outputs": [],
   "source": [
    "#X.ttext = X.ttext.apply(lambda x: data_Stemmer(x.lower().replace('unknown', '')))"
   ]
  },
  {
   "cell_type": "code",
   "execution_count": 213,
   "id": "9967671c",
   "metadata": {
    "id": "9967671c"
   },
   "outputs": [],
   "source": [
    "#X.head()"
   ]
  },
  {
   "cell_type": "code",
   "execution_count": 214,
   "id": "cb7f3a93",
   "metadata": {
    "id": "cb7f3a93"
   },
   "outputs": [],
   "source": [
    "X=X.text"
   ]
  },
  {
   "cell_type": "code",
   "execution_count": 215,
   "id": "9720ce4d",
   "metadata": {
    "id": "9720ce4d"
   },
   "outputs": [],
   "source": [
    "from sklearn.feature_extraction.text import TfidfVectorizer\n",
    "tf_vectorizer = TfidfVectorizer(stop_words=stop, ngram_range=(1, 2), min_df=0.001, norm=None)"
   ]
  },
  {
   "cell_type": "code",
   "execution_count": 241,
   "id": "7d35e98b",
   "metadata": {
    "id": "7d35e98b"
   },
   "outputs": [],
   "source": [
    "#Разбиваем на тестовую и обучающие выборки\n",
    "from sklearn.model_selection import train_test_split\n",
    "Xtr, Xval, ytr, yval = train_test_split(X, y, test_size=0.30, random_state=42)"
   ]
  },
  {
   "cell_type": "code",
   "execution_count": 266,
   "id": "1a772ead",
   "metadata": {
    "id": "1a772ead"
   },
   "outputs": [],
   "source": [
    "Xtr_tfidf = tf_vectorizer.fit_transform(Xtr)\n",
    "Xval_tfidf = tf_vectorizer.transform(Xval)"
   ]
  },
  {
   "cell_type": "code",
   "execution_count": 267,
   "id": "020713ab",
   "metadata": {
    "colab": {
     "base_uri": "https://localhost:8080/"
    },
    "executionInfo": {
     "elapsed": 262,
     "status": "ok",
     "timestamp": 1681111367018,
     "user": {
      "displayName": "marat nasrutdinov",
      "userId": "02703623401600723846"
     },
     "user_tz": -180
    },
    "id": "020713ab",
    "outputId": "4d79cc8f-07dc-4425-b54f-c10598b31620"
   },
   "outputs": [
    {
     "data": {
      "text/plain": [
       "((3886, 1634), (1666, 1634))"
      ]
     },
     "execution_count": 267,
     "metadata": {},
     "output_type": "execute_result"
    }
   ],
   "source": [
    "Xtr_tfidf.shape, Xval_tfidf.shape"
   ]
  },
  {
   "cell_type": "code",
   "execution_count": 265,
   "id": "8c349249",
   "metadata": {},
   "outputs": [
    {
     "data": {
      "text/plain": [
       "(3886, 1634)"
      ]
     },
     "execution_count": 265,
     "metadata": {},
     "output_type": "execute_result"
    }
   ],
   "source": [
    "Xtr_tfidf[:,].shape"
   ]
  },
  {
   "cell_type": "code",
   "execution_count": 236,
   "id": "00885a05",
   "metadata": {},
   "outputs": [
    {
     "data": {
      "text/plain": [
       "()"
      ]
     },
     "execution_count": 236,
     "metadata": {},
     "output_type": "execute_result"
    }
   ],
   "source": [
    "Xtr_tfidf.shape"
   ]
  },
  {
   "cell_type": "markdown",
   "id": "bc704c4d",
   "metadata": {
    "id": "bc704c4d"
   },
   "source": [
    "## Методы логистической регрессии к нашим данным"
   ]
  },
  {
   "cell_type": "code",
   "execution_count": 268,
   "id": "8d8398c5",
   "metadata": {
    "id": "8d8398c5"
   },
   "outputs": [],
   "source": [
    "from sklearn.linear_model import SGDClassifier, LogisticRegressionCV\n",
    "from sklearn.model_selection import StratifiedKFold, train_test_split, RandomizedSearchCV\n",
    "from sklearn.metrics import classification_report, confusion_matrix, accuracy_score"
   ]
  },
  {
   "cell_type": "code",
   "execution_count": 269,
   "id": "29891a0f",
   "metadata": {
    "id": "29891a0f"
   },
   "outputs": [],
   "source": [
    "logit_sgd = SGDClassifier(\n",
    "    loss='log', \n",
    "    shuffle=True, \n",
    "    n_iter_no_change=10, \n",
    "    max_iter=500, \n",
    "    penalty='l2', \n",
    "    random_state=42\n",
    ")"
   ]
  },
  {
   "cell_type": "code",
   "execution_count": 270,
   "id": "b972019d",
   "metadata": {
    "colab": {
     "base_uri": "https://localhost:8080/"
    },
    "executionInfo": {
     "elapsed": 228,
     "status": "ok",
     "timestamp": 1681111375712,
     "user": {
      "displayName": "marat nasrutdinov",
      "userId": "02703623401600723846"
     },
     "user_tz": -180
    },
    "id": "b972019d",
    "outputId": "110f7c69-33c0-4de8-b528-3e7035558f0f"
   },
   "outputs": [
    {
     "name": "stdout",
     "output_type": "stream",
     "text": [
      "train accuracy= 0.9948533196088523\n",
      "validation accuracy= 0.975390156062425\n",
      "              precision    recall  f1-score   support\n",
      "\n",
      "         ham       0.99      0.98      0.99      1471\n",
      "        spam       0.87      0.93      0.90       195\n",
      "\n",
      "    accuracy                           0.98      1666\n",
      "   macro avg       0.93      0.96      0.94      1666\n",
      "weighted avg       0.98      0.98      0.98      1666\n",
      "\n"
     ]
    }
   ],
   "source": [
    "logit_sgd.fit(Xtr_tfidf, ytr)\n",
    "\n",
    "print(\"train accuracy=\", accuracy_score(logit_sgd.predict(Xtr_tfidf), ytr))\n",
    "print(\"validation accuracy=\",accuracy_score(logit_sgd.predict(Xval_tfidf), yval))\n",
    "\n",
    "print(classification_report(logit_sgd.predict(Xval_tfidf), yval))"
   ]
  },
  {
   "cell_type": "code",
   "execution_count": 271,
   "id": "fb9a2289",
   "metadata": {},
   "outputs": [
    {
     "data": {
      "text/plain": [
       "((3886, 1634), (3886,))"
      ]
     },
     "execution_count": 271,
     "metadata": {},
     "output_type": "execute_result"
    }
   ],
   "source": [
    "Xtr_tfidf.shape, ytr.shape"
   ]
  },
  {
   "cell_type": "code",
   "execution_count": 274,
   "id": "b6e3494d",
   "metadata": {
    "colab": {
     "base_uri": "https://localhost:8080/",
     "height": 74
    },
    "executionInfo": {
     "elapsed": 4099,
     "status": "ok",
     "timestamp": 1681111385937,
     "user": {
      "displayName": "marat nasrutdinov",
      "userId": "02703623401600723846"
     },
     "user_tz": -180
    },
    "id": "b6e3494d",
    "outputId": "dd6d38a4-1eef-4d57-ccd9-fecd45abe35c"
   },
   "outputs": [
    {
     "data": {
      "text/plain": [
       "LogisticRegressionCV(multi_class='ovr', n_jobs=-1)"
      ]
     },
     "execution_count": 274,
     "metadata": {},
     "output_type": "execute_result"
    }
   ],
   "source": [
    "logit_cv = LogisticRegressionCV(Cs=10, n_jobs=-1, multi_class='ovr')\n",
    "logit_cv.fit(Xtr_tfidf, ytr)"
   ]
  },
  {
   "cell_type": "code",
   "execution_count": 275,
   "id": "9d98ce21",
   "metadata": {
    "colab": {
     "base_uri": "https://localhost:8080/"
    },
    "executionInfo": {
     "elapsed": 264,
     "status": "ok",
     "timestamp": 1681111390200,
     "user": {
      "displayName": "marat nasrutdinov",
      "userId": "02703623401600723846"
     },
     "user_tz": -180
    },
    "id": "9d98ce21",
    "outputId": "8758cb33-239b-45b8-f4a0-09e7dbf98ecf"
   },
   "outputs": [
    {
     "name": "stdout",
     "output_type": "stream",
     "text": [
      "train accuracy= 0.9948533196088523\n",
      "validation accuracy= 0.9765906362545018\n",
      "              precision    recall  f1-score   support\n",
      "\n",
      "         ham       1.00      0.98      0.99      1483\n",
      "        spam       0.84      0.97      0.90       183\n",
      "\n",
      "    accuracy                           0.98      1666\n",
      "   macro avg       0.92      0.97      0.94      1666\n",
      "weighted avg       0.98      0.98      0.98      1666\n",
      "\n"
     ]
    }
   ],
   "source": [
    "print(\"train accuracy=\", accuracy_score(logit_cv.predict(Xtr_tfidf), ytr))\n",
    "print(\"validation accuracy=\", accuracy_score(logit_cv.predict(Xval_tfidf), yval))\n",
    "\n",
    "print(classification_report(logit_cv.predict(Xval_tfidf), yval))"
   ]
  },
  {
   "cell_type": "code",
   "execution_count": 276,
   "id": "be1ca89b",
   "metadata": {
    "id": "be1ca89b"
   },
   "outputs": [],
   "source": [
    "def visualize_coefficients(coef, feature_names, title, plot_num, n_top_features=25):\n",
    "    interesting_coefficients = np.argsort(coef)[-n_top_features:]\n",
    "    \n",
    "    plt.figure(figsize=(15, 15))\n",
    "    plt.subplot(510+plot_num+1)\n",
    "    colors = [\"lightblue\" for c in coef[interesting_coefficients]]\n",
    "    plt.bar(np.arange(n_top_features), coef[interesting_coefficients], color=colors)\n",
    "    feature_names = np.array(feature_names)\n",
    "    plt.xticks(np.arange(1, 1 + n_top_features), \n",
    "               feature_names[interesting_coefficients], rotation=60, ha=\"right\", fontsize=14);\n",
    "    plt.title(title)"
   ]
  },
  {
   "cell_type": "code",
   "execution_count": 277,
   "id": "9df65eee",
   "metadata": {
    "colab": {
     "base_uri": "https://localhost:8080/"
    },
    "executionInfo": {
     "elapsed": 254,
     "status": "ok",
     "timestamp": 1681111399303,
     "user": {
      "displayName": "marat nasrutdinov",
      "userId": "02703623401600723846"
     },
     "user_tz": -180
    },
    "id": "9df65eee",
    "outputId": "60806e06-86cf-41ca-9615-9aff7e48d999"
   },
   "outputs": [
    {
     "data": {
      "text/plain": [
       "array([[ 4.26628000e-02,  2.54539459e-02,  5.09709469e-02, ...,\n",
       "         3.22768580e-02,  1.96371243e-01, -3.42469167e-02],\n",
       "       [-4.17372632e-02, -2.57982180e-02, -5.06842413e-02, ...,\n",
       "        -3.21032354e-02, -1.94121566e-01,  3.28793166e-02],\n",
       "       [-9.60808659e-07, -9.61858538e-07, -1.61187767e-06, ...,\n",
       "        -9.61014291e-07, -4.62326250e-06, -7.88146502e-07]])"
      ]
     },
     "execution_count": 277,
     "metadata": {},
     "output_type": "execute_result"
    }
   ],
   "source": [
    "logit_cv.coef_"
   ]
  },
  {
   "cell_type": "code",
   "execution_count": 280,
   "id": "lNXcvae-DuZC",
   "metadata": {
    "id": "lNXcvae-DuZC"
   },
   "outputs": [
    {
     "data": {
      "text/plain": [
       "<bound method CountVectorizer.get_feature_names of TfidfVectorizer(min_df=0.001, ngram_range=(1, 2), norm=None,\n",
       "                stop_words=['и', 'в', 'во', 'не', 'что', 'он', 'на', 'я', 'с',\n",
       "                            'со', 'как', 'а', 'то', 'все', 'она', 'так', 'его',\n",
       "                            'но', 'да', 'ты', 'к', 'у', 'же', 'вы', 'за', 'бы',\n",
       "                            'по', 'только', 'ее', 'мне', ...])>"
      ]
     },
     "execution_count": 280,
     "metadata": {},
     "output_type": "execute_result"
    }
   ],
   "source": [
    "tf_vectorizer.get_feature_names"
   ]
  },
  {
   "cell_type": "markdown",
   "id": "ac371727",
   "metadata": {
    "id": "ac371727"
   },
   "source": [
    "## Графики значимости слов для попадания в разные классы"
   ]
  },
  {
   "cell_type": "code",
   "execution_count": 281,
   "id": "729849f2",
   "metadata": {
    "colab": {
     "base_uri": "https://localhost:8080/",
     "height": 331
    },
    "executionInfo": {
     "elapsed": 3483,
     "status": "ok",
     "timestamp": 1681111617358,
     "user": {
      "displayName": "marat nasrutdinov",
      "userId": "02703623401600723846"
     },
     "user_tz": -180
    },
    "id": "729849f2",
    "outputId": "502a4e15-0a20-416c-ae6f-640e338881eb"
   },
   "outputs": [
    {
     "data": {
      "image/png": "[encoded data removed]",
      "text/plain": [
       "<Figure size 1080x1080 with 1 Axes>"
      ]
     },
     "metadata": {
      "needs_background": "light"
     },
     "output_type": "display_data"
    }
   ],
   "source": [
    "visualize_coefficients(logit_cv.coef_[0,:], tf_vectorizer.get_feature_names(),title=\"Positive\", plot_num=0, n_top_features=50)"
   ]
  },
  {
   "cell_type": "code",
   "execution_count": 282,
   "id": "fda300de",
   "metadata": {
    "id": "fda300de"
   },
   "outputs": [],
   "source": [
    "def visualize_coefficients_2(coef, feature_names, title, plot_num, n_top_features=50):\n",
    "    interesting_coefficients = np.argsort(coef)[0:n_top_features]\n",
    "    \n",
    "    plt.figure(figsize=(15, 15))\n",
    "    plt.subplot(510+plot_num+1)\n",
    "    colors = [\"lightblue\" for c in coef[interesting_coefficients]]\n",
    "    plt.bar(np.arange(n_top_features), coef[interesting_coefficients], color=colors)\n",
    "    feature_names = np.array(feature_names)\n",
    "    plt.xticks(np.arange(1, 1 + n_top_features), \n",
    "               feature_names[interesting_coefficients], rotation=60, ha=\"right\", fontsize=14);\n",
    "    plt.title(title)"
   ]
  },
  {
   "cell_type": "code",
   "execution_count": 283,
   "id": "9cca37bb",
   "metadata": {
    "colab": {
     "base_uri": "https://localhost:8080/",
     "height": 260
    },
    "executionInfo": {
     "elapsed": 1720,
     "status": "ok",
     "timestamp": 1681111652102,
     "user": {
      "displayName": "marat nasrutdinov",
      "userId": "02703623401600723846"
     },
     "user_tz": -180
    },
    "id": "9cca37bb",
    "outputId": "56d95453-767c-4869-dab5-1ca86c62f1bf"
   },
   "outputs": [
    {
     "data": {
      "image/png": "[encoded data removed]",
      "text/plain": [
       "<Figure size 1080x1080 with 1 Axes>"
      ]
     },
     "metadata": {
      "needs_background": "light"
     },
     "output_type": "display_data"
    }
   ],
   "source": [
    "visualize_coefficients_2(logit_cv.coef_[0,:], tf_vectorizer.get_feature_names(),title=\"Negative\", plot_num=1, n_top_features=50)"
   ]
  },
  {
   "cell_type": "code",
   "execution_count": null,
   "id": "20080364",
   "metadata": {
    "id": "20080364"
   },
   "outputs": [],
   "source": []
  }
 ],
 "metadata": {
  "colab": {
   "provenance": []
  },
  "kernelspec": {
   "display_name": "Python 3 (ipykernel)",
   "language": "python",
   "name": "python3"
  },
  "language_info": {
   "codemirror_mode": {
    "name": "ipython",
    "version": 3
   },
   "file_extension": ".py",
   "mimetype": "text/x-python",
   "name": "python",
   "nbconvert_exporter": "python",
   "pygments_lexer": "ipython3",
   "version": "3.8.10"
  }
 },
 "nbformat": 4,
 "nbformat_minor": 5
}
